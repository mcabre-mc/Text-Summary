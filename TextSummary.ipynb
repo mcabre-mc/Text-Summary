{
 "cells": [
  {
   "cell_type": "code",
   "execution_count": 2,
   "id": "2c6591e8",
   "metadata": {},
   "outputs": [],
   "source": [
    "from nltk.corpus import stopwords\n",
    "from nltk.cluster.util import cosine_distance\n",
    "import numpy as np\n",
    "import networkx as nx\n",
    "import scipy as sp"
   ]
  },
  {
   "cell_type": "code",
   "execution_count": 3,
   "id": "35ece550",
   "metadata": {},
   "outputs": [
    {
     "name": "stdout",
     "output_type": "stream",
     "text": [
      "﻿Cryptocurrency is a digital payment system that doesn't rely on banks to verify transactions\n",
      "It’s a peer-to-peer system that can enable anyone anywhere to send and receive payments\n",
      "Instead of being physical money carried around and exchanged in the real world, cryptocurrency payments exist purely as digital entries to an online database describing specific transactions\n",
      "When you transfer cryptocurrency funds, the transactions are recorded in a public ledger\n",
      "Cryptocurrency is stored in digital wallets.Cryptocurrency received its name because it uses encryption to verify transactions\n",
      "This means advanced coding is involved in storing and transmitting cryptocurrency data between wallets and to public ledgers\n",
      "The aim of encryption is to provide security and safety.The first cryptocurrency was Bitcoin, which was founded in 2009 and remains the best known today\n",
      "Much of the interest in cryptocurrencies is to trade for profit, with speculators at times driving prices skyward\n",
      "Cryptocurrencies run on a distributed public ledger called blockchain, a record of all transactions updated and held by currency holders\n",
      "Units of cryptocurrency are created through a process called mining, which involves using computer power to solve complicated mathematical problems that generate coins\n",
      "Users can also buy the currencies from brokers, then store and spend them using cryptographic wallets\n",
      "If you own cryptocurrency, you don’t own anything tangible\n",
      "What you own is a key that allows you to move a record or a unit of measure from one person to another without a trusted third party\n",
      "Although Bitcoin has been around since 2009, cryptocurrencies and applications of blockchain technology are still emerging in financial terms, and more uses are expected in the future\n",
      "Transactions including bonds, stocks, and other financial assets could eventually be traded using the technology.\n"
     ]
    },
    {
     "data": {
      "text/plain": [
       "['Transactions',\n",
       " 'including',\n",
       " 'bonds,',\n",
       " 'stocks,',\n",
       " 'and',\n",
       " 'other',\n",
       " 'financial',\n",
       " 'assets',\n",
       " 'could',\n",
       " 'eventually',\n",
       " 'be',\n",
       " 'traded',\n",
       " 'using',\n",
       " 'the',\n",
       " 'technology.']"
      ]
     },
     "execution_count": 3,
     "metadata": {},
     "output_type": "execute_result"
    }
   ],
   "source": [
    "stop_words = stopwords.words('english')\n",
    "filename = 'Crypto.txt'\n",
    "file = open(filename, \"r\")\n",
    "filedata = file.readlines()\n",
    "article = filedata[0].split(\". \")\n",
    "sentences = []\n",
    "for sentence in article:\n",
    "    print(sentence)\n",
    "    sentences.append(sentence.replace(\"[^a-zA-Z]\", \" \").split(\" \"))\n",
    "sentences.pop()"
   ]
  },
  {
   "cell_type": "code",
   "execution_count": 5,
   "id": "c24913a2",
   "metadata": {},
   "outputs": [],
   "source": [
    "def sentence_similarity(sent1, sent2, stopwords=None):\n",
    "    if stopwords is None:\n",
    "        stopwords = []\n",
    "\n",
    "    sent1 = [w.lower() for w in sent1]\n",
    "    sent2 = [w.lower() for w in sent2]\n",
    "\n",
    "    all_words = list(set(sent1 + sent2))\n",
    "\n",
    "    vector1 = [0] * len(all_words)\n",
    "    vector2 = [0] * len(all_words)\n",
    "\n",
    "    for w in sent1:\n",
    "        if w in stopwords:\n",
    "            continue\n",
    "        vector1[all_words.index(w)] += 1\n",
    "\n",
    "    for w in sent2:\n",
    "        if w in stopwords:\n",
    "            continue\n",
    "        vector2[all_words.index(w)] += 1\n",
    "\n",
    "    return 1 - cosine_distance(vector1, vector2)"
   ]
  },
  {
   "cell_type": "code",
   "execution_count": 8,
   "id": "a3640f01",
   "metadata": {},
   "outputs": [],
   "source": [
    "sentence_similarity_martix = np.zeros((len(sentences), len(sentences)))\n",
    "for idx1 in range(len(sentences)):\n",
    "    for idx2 in range(len(sentences)):\n",
    "        if idx1 == idx2:  # ignore if both are same sentences\n",
    "            continue\n",
    "        sentence_similarity_martix[idx1][idx2] = sentence_similarity(sentences[idx1], sentences[idx2], stop_words)"
   ]
  },
  {
   "cell_type": "code",
   "execution_count": 11,
   "id": "7e8052f6",
   "metadata": {},
   "outputs": [],
   "source": [
    "sentence_similarity_graph = nx.from_numpy_array(sentence_similarity_martix)"
   ]
  },
  {
   "cell_type": "code",
   "execution_count": 13,
   "id": "e66aebb7",
   "metadata": {},
   "outputs": [],
   "source": [
    "scores = nx.pagerank(sentence_similarity_graph)"
   ]
  },
  {
   "cell_type": "code",
   "execution_count": 15,
   "id": "64aab220",
   "metadata": {},
   "outputs": [
    {
     "name": "stdout",
     "output_type": "stream",
     "text": [
      "Indexes of top ranked_sentence order are  [(0.1449204011121307, ['Cryptocurrency', 'is', 'stored', 'in', 'digital', 'wallets.Cryptocurrency', 'received', 'its', 'name', 'because', 'it', 'uses', 'encryption', 'to', 'verify', 'transactions']), (0.1430922077061491, ['When', 'you', 'transfer', 'cryptocurrency', 'funds,', 'the', 'transactions', 'are', 'recorded', 'in', 'a', 'public', 'ledger']), (0.12190998171104253, ['Cryptocurrencies', 'run', 'on', 'a', 'distributed', 'public', 'ledger', 'called', 'blockchain,', 'a', 'record', 'of', 'all', 'transactions', 'updated', 'and', 'held', 'by', 'currency', 'holders']), (0.1090968192615489, ['Instead', 'of', 'being', 'physical', 'money', 'carried', 'around', 'and', 'exchanged', 'in', 'the', 'real', 'world,', 'cryptocurrency', 'payments', 'exist', 'purely', 'as', 'digital', 'entries', 'to', 'an', 'online', 'database', 'describing', 'specific', 'transactions']), (0.09827053325228365, ['\\ufeffCryptocurrency', 'is', 'a', 'digital', 'payment', 'system', 'that', \"doesn't\", 'rely', 'on', 'banks', 'to', 'verify', 'transactions']), (0.08855680825089259, ['This', 'means', 'advanced', 'coding', 'is', 'involved', 'in', 'storing', 'and', 'transmitting', 'cryptocurrency', 'data', 'between', 'wallets', 'and', 'to', 'public', 'ledgers']), (0.06736394022984052, ['Units', 'of', 'cryptocurrency', 'are', 'created', 'through', 'a', 'process', 'called', 'mining,', 'which', 'involves', 'using', 'computer', 'power', 'to', 'solve', 'complicated', 'mathematical', 'problems', 'that', 'generate', 'coins']), (0.05869698445351783, ['The', 'aim', 'of', 'encryption', 'is', 'to', 'provide', 'security', 'and', 'safety.The', 'first', 'cryptocurrency', 'was', 'Bitcoin,', 'which', 'was', 'founded', 'in', '2009', 'and', 'remains', 'the', 'best', 'known', 'today']), (0.04481774104794956, ['Although', 'Bitcoin', 'has', 'been', 'around', 'since', '2009,', 'cryptocurrencies', 'and', 'applications', 'of', 'blockchain', 'technology', 'are', 'still', 'emerging', 'in', 'financial', 'terms,', 'and', 'more', 'uses', 'are', 'expected', 'in', 'the', 'future']), (0.03154059651234497, ['Much', 'of', 'the', 'interest', 'in', 'cryptocurrencies', 'is', 'to', 'trade', 'for', 'profit,', 'with', 'speculators', 'at', 'times', 'driving', 'prices', 'skyward']), (0.030582206927883424, ['It’s', 'a', 'peer-to-peer', 'system', 'that', 'can', 'enable', 'anyone', 'anywhere', 'to', 'send', 'and', 'receive', 'payments']), (0.02995430016772422, ['Users', 'can', 'also', 'buy', 'the', 'currencies', 'from', 'brokers,', 'then', 'store', 'and', 'spend', 'them', 'using', 'cryptographic', 'wallets']), (0.01979063526022793, ['What', 'you', 'own', 'is', 'a', 'key', 'that', 'allows', 'you', 'to', 'move', 'a', 'record', 'or', 'a', 'unit', 'of', 'measure', 'from', 'one', 'person', 'to', 'another', 'without', 'a', 'trusted', 'third', 'party']), (0.011406844106464031, ['If', 'you', 'own', 'cryptocurrency,', 'you', 'don’t', 'own', 'anything', 'tangible'])]\n"
     ]
    }
   ],
   "source": [
    "ranked_sentence = sorted(((scores[i], s) for i, s in enumerate(sentences)), reverse=True)\n",
    "print(\"Indexes of top ranked_sentence order are \", ranked_sentence)"
   ]
  },
  {
   "cell_type": "code",
   "execution_count": 19,
   "id": "00c68df5",
   "metadata": {},
   "outputs": [
    {
     "name": "stdout",
     "output_type": "stream",
     "text": [
      "Summarize Text: \n",
      " Cryptocurrency is stored in digital wallets.Cryptocurrency received its name because it uses encryption to verify transactions. When you transfer cryptocurrency funds, the transactions are recorded in a public ledger. Cryptocurrencies run on a distributed public ledger called blockchain, a record of all transactions updated and held by currency holders. Instead of being physical money carried around and exchanged in the real world, cryptocurrency payments exist purely as digital entries to an online database describing specific transactions. ﻿Cryptocurrency is a digital payment system that doesn't rely on banks to verify transactions\n"
     ]
    }
   ],
   "source": [
    "summarize_text = []\n",
    "top_n = 5\n",
    "for i in range(top_n):\n",
    "    summarize_text.append(\" \".join(ranked_sentence[i][1]))\n",
    "print(\"Summarize Text: \\n\", \". \".join(summarize_text))"
   ]
  }
 ],
 "metadata": {
  "kernelspec": {
   "display_name": "Python 3 (ipykernel)",
   "language": "python",
   "name": "python3"
  },
  "language_info": {
   "codemirror_mode": {
    "name": "ipython",
    "version": 3
   },
   "file_extension": ".py",
   "mimetype": "text/x-python",
   "name": "python",
   "nbconvert_exporter": "python",
   "pygments_lexer": "ipython3",
   "version": "3.9.7"
  }
 },
 "nbformat": 4,
 "nbformat_minor": 5
}
